{
 "cells": [
  {
   "cell_type": "code",
   "execution_count": 1,
   "metadata": {},
   "outputs": [],
   "source": [
    "import pandas as pd\n",
    "\n",
    "# Création des dataframes à partir des fichiers exportés après Q1 à Q14\n",
    "population = pd.read_csv(\"population.csv\")\n",
    "dispo_alim = pd.read_csv(\"dispo_alim.csv\")\n",
    "ssalim = pd.read_csv(\"ssalim.csv\")"
   ]
  },
  {
   "cell_type": "markdown",
   "metadata": {},
   "source": [
    "## Question 15 : Proposez une clé primaire pertinente pour la table population contenant la population de chaque pays pour 2013. Elle devra contenir 4 colonnes : pays, code_pays, annee, population."
   ]
  },
  {
   "cell_type": "code",
   "execution_count": 3,
   "metadata": {},
   "outputs": [
    {
     "name": "stderr",
     "output_type": "stream",
     "text": [
      "<ipython-input-3-449ddf31d801>:5: SettingWithCopyWarning: \n",
      "A value is trying to be set on a copy of a slice from a DataFrame.\n",
      "Try using .loc[row_indexer,col_indexer] = value instead\n",
      "\n",
      "See the caveats in the documentation: https://pandas.pydata.org/pandas-docs/stable/user_guide/indexing.html#returning-a-view-versus-a-copy\n",
      "  population['Zone'] = population['Zone'].str.replace('É','E')\n",
      "<ipython-input-3-449ddf31d801>:6: SettingWithCopyWarning: \n",
      "A value is trying to be set on a copy of a slice from a DataFrame.\n",
      "Try using .loc[row_indexer,col_indexer] = value instead\n",
      "\n",
      "See the caveats in the documentation: https://pandas.pydata.org/pandas-docs/stable/user_guide/indexing.html#returning-a-view-versus-a-copy\n",
      "  population['Zone'] = population['Zone'].str.replace('Î','I')\n"
     ]
    }
   ],
   "source": [
    "# Sélection des colonnes correspondant aux \"pays, code_pays, annee, population\"\n",
    "population= population[[\"Code zone\",\"Zone\",\"Année\",\"Population\"]]\n",
    "\n",
    "# Suppression des accents sur les majuscules\n",
    "population['Zone'] = population['Zone'].str.replace('É','E')\n",
    "population['Zone'] = population['Zone'].str.replace('Î','I')\n",
    "\n",
    "# Changement du nom des colonnes en \"pays, code_pays, annee, population\" \n",
    "population = population.rename(columns=\n",
    "                               {'Code zone':'code_pays',\n",
    "                                'Zone':'pays',\n",
    "                                'Année':'annee',\n",
    "                                'Population':'population'})\n",
    "population.to_csv(\"population.csv\", index=False)"
   ]
  },
  {
   "cell_type": "code",
   "execution_count": 4,
   "metadata": {
    "scrolled": true
   },
   "outputs": [
    {
     "data": {
      "text/plain": [
       "0"
      ]
     },
     "execution_count": 4,
     "metadata": {},
     "output_type": "execute_result"
    }
   ],
   "source": [
    "population.code_pays.duplicated().sum()"
   ]
  },
  {
   "cell_type": "markdown",
   "metadata": {},
   "source": [
    "### Clé primaire  : \"code_pays\" et \"annee\" car l'on pourrait avoir par la suite d'autres années"
   ]
  },
  {
   "cell_type": "markdown",
   "metadata": {},
   "source": [
    "---\n",
    "## Question 16 : Proposez une clé primaire pertinente pour la table dispo_alim contenant pour chaque pays et pour chaque produit en 2013, les informations suivantes:\n",
    "\n",
    "    la nature du produit (deux valeurs possibles : “animal” ou “végétal”)\n",
    "    disponibilité alimentaire en tonnes\n",
    "    disponibilité alimentaire en Kcal/personne/jour\n",
    "    disponibilité alimentaire de protéines en g/personne/jour\n",
    "    disponibilité alimentaire de matières grasses en g/personne/jour\n",
    "Elle devra contenir ces colonnes : pays, code_pays, année, produit, code_produit, origin, dispo_alim_tonnes, dispo_alim_kcal_p_j, dispo_prot, dispo_mat_gr ."
   ]
  },
  {
   "cell_type": "code",
   "execution_count": 5,
   "metadata": {},
   "outputs": [
    {
     "name": "stderr",
     "output_type": "stream",
     "text": [
      "<ipython-input-5-9eac8fcc4e01>:13: SettingWithCopyWarning: \n",
      "A value is trying to be set on a copy of a slice from a DataFrame.\n",
      "Try using .loc[row_indexer,col_indexer] = value instead\n",
      "\n",
      "See the caveats in the documentation: https://pandas.pydata.org/pandas-docs/stable/user_guide/indexing.html#returning-a-view-versus-a-copy\n",
      "  dispo_alim2['Zone'] = dispo_alim2['Zone'].str.replace('É','E')\n",
      "<ipython-input-5-9eac8fcc4e01>:14: SettingWithCopyWarning: \n",
      "A value is trying to be set on a copy of a slice from a DataFrame.\n",
      "Try using .loc[row_indexer,col_indexer] = value instead\n",
      "\n",
      "See the caveats in the documentation: https://pandas.pydata.org/pandas-docs/stable/user_guide/indexing.html#returning-a-view-versus-a-copy\n",
      "  dispo_alim2['Zone'] = dispo_alim2['Zone'].str.replace('Î','I')\n",
      "<ipython-input-5-9eac8fcc4e01>:20: SettingWithCopyWarning: \n",
      "A value is trying to be set on a copy of a slice from a DataFrame.\n",
      "Try using .loc[row_indexer,col_indexer] = value instead\n",
      "\n",
      "See the caveats in the documentation: https://pandas.pydata.org/pandas-docs/stable/user_guide/indexing.html#returning-a-view-versus-a-copy\n",
      "  dispo_alim2['Poids disponibilité alimentaire annuelle en kg']/= 1000\n"
     ]
    }
   ],
   "source": [
    "# Sélection des colonnes à partir de dispo_alim\n",
    "dispo_alim2 = dispo_alim[['Zone',\n",
    "                          'Code zone',\n",
    "                          'Produit',\n",
    "                          'Code Produit',\n",
    "                          'Type',\n",
    "                          'Poids disponibilité alimentaire annuelle en kg',\n",
    "                          'Disponibilité alimentaire (Kcal/personne/jour)',\n",
    "                          'Disponibilité de protéines en quantité (g/personne/jour)',\n",
    "                          'Disponibilité de matière grasse en quantité (g/personne/jour)']]\n",
    "\n",
    "# Suppression des accents sur les majuscules\n",
    "dispo_alim2['Zone'] = dispo_alim2['Zone'].str.replace('É','E')\n",
    "dispo_alim2['Zone'] = dispo_alim2['Zone'].str.replace('Î','I')\n",
    "\n",
    "# Insertion colonne année avec la valeur 2013\n",
    "dispo_alim2.insert(2, \"annee\", 2013)\n",
    "\n",
    "# Conversion de la colonne 'Poids disponibilité alimentaire annuelle en kg' en tonnes\n",
    "dispo_alim2['Poids disponibilité alimentaire annuelle en kg']/= 1000\n",
    "\n",
    "# Changement du nom des colonnes \n",
    "dispo_alim2 = dispo_alim2.rename(columns=\n",
    "                                 {'Code zone':'code_pays',\n",
    "                                  'Zone':'pays',\n",
    "                                  'Produit':'produit', \n",
    "                                  'Code Produit':'code_produit',\n",
    "                                  'Type':'origin',\n",
    "                                  'Poids disponibilité alimentaire annuelle en kg':'dispo_alim_tonnes',\n",
    "                                  'Disponibilité alimentaire (Kcal/personne/jour)':'dispo_alim_kcal_p_j',\n",
    "                                  'Disponibilité de protéines en quantité (g/personne/jour)':'dispo_prot',\n",
    "                                  'Disponibilité de matière grasse en quantité (g/personne/jour)':'dispo_mat_gr' })\n",
    "\n",
    "# Export en fichier csv\n",
    "dispo_alim2.to_csv(\"dispo_alim.csv\", index=False)"
   ]
  },
  {
   "cell_type": "markdown",
   "metadata": {},
   "source": [
    "### Clé primaire  : \"code_pays\", \"code_produit\" et \"annee\" car l'on pourrait avoir par la suite d'autres années"
   ]
  },
  {
   "cell_type": "markdown",
   "metadata": {},
   "source": [
    "---\n",
    "## Question 17 : Proposez une clé primaire pertinente pour la table equilibre_prod contenant pour chaque pays et pour chaque produit en 2013, les quantités suivantes :\n",
    "    disponibilité intérieure\n",
    "    aliments pour animaux\n",
    "    semences\n",
    "    pertes\n",
    "    transformés\n",
    "    nourriture\n",
    "    autres utilisations\n",
    "Elle devra contenir ces colonnes : pays, code_pays, année, produit, code_produit, dispo_int, alim_ani, semences, pertes, transfo, nourriture, autres_utilisations."
   ]
  },
  {
   "cell_type": "code",
   "execution_count": 6,
   "metadata": {},
   "outputs": [
    {
     "name": "stderr",
     "output_type": "stream",
     "text": [
      "<ipython-input-6-8c1a7ead97ac>:14: SettingWithCopyWarning: \n",
      "A value is trying to be set on a copy of a slice from a DataFrame.\n",
      "Try using .loc[row_indexer,col_indexer] = value instead\n",
      "\n",
      "See the caveats in the documentation: https://pandas.pydata.org/pandas-docs/stable/user_guide/indexing.html#returning-a-view-versus-a-copy\n",
      "  equilibre_prod['Zone'] = equilibre_prod['Zone'].str.replace('É','E')\n",
      "<ipython-input-6-8c1a7ead97ac>:15: SettingWithCopyWarning: \n",
      "A value is trying to be set on a copy of a slice from a DataFrame.\n",
      "Try using .loc[row_indexer,col_indexer] = value instead\n",
      "\n",
      "See the caveats in the documentation: https://pandas.pydata.org/pandas-docs/stable/user_guide/indexing.html#returning-a-view-versus-a-copy\n",
      "  equilibre_prod['Zone'] = equilibre_prod['Zone'].str.replace('Î','I')\n"
     ]
    }
   ],
   "source": [
    "# Sélection des colonnes à partir de dispo_alim\n",
    "equilibre_prod = dispo_alim[['Zone',\n",
    "                             'Code zone',\n",
    "                             'Produit',\n",
    "                             'Code Produit',\n",
    "                             'Disponibilité intérieure',\n",
    "                             'Aliments pour animaux',\n",
    "                             'Semences',\n",
    "                             'Pertes',\n",
    "                             'Traitement',\n",
    "                             'Nourriture',\n",
    "                             'Autres utilisations (non alimentaire)']]\n",
    "# Suppression des accents sur les majuscules\n",
    "equilibre_prod['Zone'] = equilibre_prod['Zone'].str.replace('É','E')\n",
    "equilibre_prod['Zone'] = equilibre_prod['Zone'].str.replace('Î','I')\n",
    "\n",
    "# Insertion colonne année avec la valeur 2013\n",
    "equilibre_prod.insert(2, \"annee\", 2013)\n",
    "\n",
    "# Changement du nom des colonnes \n",
    "equilibre_prod = equilibre_prod.rename(columns=\n",
    "                                       {'Code zone':'code_pays',\n",
    "                                        'Zone':'pays',\n",
    "                                        'Produit':'produit',\n",
    "                                        'Code Produit':'code_produit',\n",
    "                                        'Disponibilité intérieure':'dispo_int',\n",
    "                                        'Aliments pour animaux':'alim_ani',\n",
    "                                        'Semences':'semences',\n",
    "                                        'Pertes':'pertes',\n",
    "                                        'Traitement':'transfo',\n",
    "                                        'Nourriture':'nourriture',\n",
    "                                        'Autres utilisations (non alimentaire)':'autres_utilisations'})\n",
    "\n",
    "# Export en fichier csv\n",
    "equilibre_prod.to_csv(\"equilibre_prod.csv\", index=False)"
   ]
  },
  {
   "cell_type": "markdown",
   "metadata": {},
   "source": [
    "### Clé primaire  : \"code_pays\", \"code_produit\" et \"annee\" car l'on pourrait avoir par la suite d'autres années"
   ]
  },
  {
   "cell_type": "markdown",
   "metadata": {},
   "source": [
    "---\n",
    "## Question 18 : Proposez encore une fois une clé primaire pertinente pour la table sous_nutrition, contenant le nombre de personnes en sous-alimentation pour chaque pays en 2013. Elle devra contenir 4 colonnes : pays, code_pays, année, nb_personnes."
   ]
  },
  {
   "cell_type": "code",
   "execution_count": 7,
   "metadata": {},
   "outputs": [],
   "source": [
    "# Sélection des colonnes à partir de ssalim pour l'année 2013 uniquement\n",
    "sous_nutrition = ssalim[['Zone','Code zone','Année','Valeur']][ssalim.Année == '2013']\n",
    "\n",
    "# Changement du nom des colonnes \n",
    "sous_nutrition = sous_nutrition.rename(columns=\n",
    "                                       {'Code zone':'code_pays',\n",
    "                                        'Zone':'pays',\n",
    "                                        'Année':'annee',\n",
    "                                        'Valeur':'nb_personnes'})\n",
    "\n",
    "# Export en fichier csv\n",
    "sous_nutrition.to_csv(\"sous_nutrition.csv\", index=False)"
   ]
  },
  {
   "cell_type": "markdown",
   "metadata": {},
   "source": [
    "### Clé primaire  : \"code_pays\" et \"annee\" car l'on pourrait avoir par la suite d'autres années"
   ]
  }
 ],
 "metadata": {
  "kernelspec": {
   "display_name": "Python 3",
   "language": "python",
   "name": "python3"
  },
  "language_info": {
   "codemirror_mode": {
    "name": "ipython",
    "version": 3
   },
   "file_extension": ".py",
   "mimetype": "text/x-python",
   "name": "python",
   "nbconvert_exporter": "python",
   "pygments_lexer": "ipython3",
   "version": "3.8.5"
  }
 },
 "nbformat": 4,
 "nbformat_minor": 4
}
